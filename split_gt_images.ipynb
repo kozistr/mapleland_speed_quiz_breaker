{
 "cells": [
  {
   "cell_type": "code",
   "execution_count": 77,
   "id": "6365415c-2d20-4fe1-95e8-d876c8957b8a",
   "metadata": {},
   "outputs": [],
   "source": [
    "from pathlib import Path\n",
    "\n",
    "import os\n",
    "import cv2\n",
    "import numpy as np\n",
    "from PIL import Image\n",
    "from matplotlib import pyplot as plt\n",
    "\n",
    "from sqb.tools import extract_character"
   ]
  },
  {
   "cell_type": "code",
   "execution_count": 112,
   "id": "6c5e0d23-7fcf-4e80-bedc-6a2bba4fa181",
   "metadata": {},
   "outputs": [],
   "source": [
    "def extract_cells_with_margin(image_path, rows, cols, margin_ratio=0.0, output_folder='character_images'):\n",
    "    no = image_path.split('/')[1].split('.')[0]\n",
    "\n",
    "    img = cv2.imread(image_path)\n",
    "    height, width, _ = img.shape\n",
    "    \n",
    "    os.makedirs(f'{output_folder}/{no}', exist_ok=True)\n",
    "    \n",
    "    cell_h = height / rows\n",
    "    cell_w = width / cols\n",
    "    \n",
    "    for r in range(rows):\n",
    "        for c in range(cols):\n",
    "            y1 = int(r * cell_h + cell_h * margin_ratio)\n",
    "            y2 = int((r + 1) * cell_h - cell_h * margin_ratio)\n",
    "            x1 = int(c * cell_w + cell_w * margin_ratio)\n",
    "            x2 = int((c + 1) * cell_w - cell_w * margin_ratio)\n",
    "\n",
    "            y1 = max(0, y1)\n",
    "            y2 = min(height, y2)\n",
    "            x1 = max(0, x1 - 5)\n",
    "            x2 = min(width, x2 + 5)\n",
    "\n",
    "            cell = img[y1:y2, x1:x2]\n",
    "\n",
    "            if np.mean(cell) > 240:\n",
    "                continue\n",
    "\n",
    "            cv2.imwrite(f\"{output_folder}/{no}/{r}_{c}.png\", cell)"
   ]
  },
  {
   "cell_type": "code",
   "execution_count": 119,
   "id": "f33b9228-fad2-40df-bfd7-b722b4bf75b4",
   "metadata": {},
   "outputs": [],
   "source": [
    "# extract_cells_with_margin('gt/1.png', 4, 12)\n",
    "# extract_cells_with_margin('gt/2.png', 2, 10)\n",
    "# extract_cells_with_margin('gt/3.png', 4, 12)\n",
    "# extract_cells_with_margin('gt/4.png', 3, 12)\n",
    "# extract_cells_with_margin('gt/5.png', 3, 12)\n",
    "# extract_cells_with_margin('gt/6.png', 3, 12)\n",
    "# extract_cells_with_margin('gt/7.png', 3, 10)\n",
    "# extract_cells_with_margin('gt/8.png', 2, 10)\n",
    "# extract_cells_with_margin('gt/9.png', 3, 12)\n",
    "# extract_cells_with_margin('gt/10.png', 2, 12)\n",
    "\n",
    "# extract_cells_with_margin('gt/11.png', 3, 12)\n",
    "# extract_cells_with_margin('gt/12.png', 1, 8)\n",
    "# extract_cells_with_margin('gt/13.png', 3, 12)\n",
    "# extract_cells_with_margin('gt/14.png', 3, 12)\n",
    "# extract_cells_with_margin('gt/15.png', 3, 12)\n",
    "# extract_cells_with_margin('gt/16.png', 4, 10)\n",
    "# extract_cells_with_margin('gt/17.png', 4, 9)\n",
    "# extract_cells_with_margin('gt/18.png', 3, 12)\n",
    "# extract_cells_with_margin('gt/19.png', 3, 12)\n",
    "# extract_cells_with_margin('gt/20.png', 3, 12)\n",
    "\n",
    "# extract_cells_with_margin('gt/21.png', 2, 12)\n",
    "# extract_cells_with_margin('gt/22.png', 4, 6)\n",
    "# extract_cells_with_margin('gt/23.png', 1, 5)\n",
    "# extract_cells_with_margin('gt/24.png', 3, 6)\n",
    "# extract_cells_with_margin('gt/25.png', 3, 5)"
   ]
  },
  {
   "cell_type": "code",
   "execution_count": null,
   "id": "cfba7239-2641-4f86-b75f-ef6bb835ff28",
   "metadata": {},
   "outputs": [],
   "source": []
  }
 ],
 "metadata": {
  "kernelspec": {
   "display_name": "Python 3 (ipykernel)",
   "language": "python",
   "name": "python3"
  },
  "language_info": {
   "codemirror_mode": {
    "name": "ipython",
    "version": 3
   },
   "file_extension": ".py",
   "mimetype": "text/x-python",
   "name": "python",
   "nbconvert_exporter": "python",
   "pygments_lexer": "ipython3",
   "version": "3.12.4"
  }
 },
 "nbformat": 4,
 "nbformat_minor": 5
}
